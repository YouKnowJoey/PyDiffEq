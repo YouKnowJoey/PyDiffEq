








import numpy as np
import sympy as sp
import matplotlib.pyplot as plt


# (a)


# Define the function y(x) = A * exp(k * x)
def y_solution(x, A, k):
    return A * np.exp(k * x)

# Generate x values from -2 to 2
x = np.linspace(-2, 2, 400)

# Choose a constant value for k
k = 1

# Define a range of values for A
A_values = [0.5, 1, 2, -1, -2]

# Plot the solution for each value of A
plt.figure(figsize=(10, 6))
for A in A_values:
    plt.plot(x, y_solution(x, A, k), label=f'A = {A}')

# Add labels and title
plt.xlabel('x')
plt.ylabel('y(x)')
plt.title('Solution of y(x) = A * exp(k * x) for various A values (k=1)')
plt.axhline(0, color='black',linewidth=0.5, ls='--')
plt.axvline(0, color='black',linewidth=0.5, ls='--')
plt.grid(True)
plt.legend()
plt.show()



# (b)


# Define the function y(x) = A * exp(k * x)
def y_solution(x, A, k):
    return A * np.exp(k * x)

# Generate x values from -2 to 2
x = np.linspace(-2, 2, 400)

# Choose a constant value for A
A = 1

# Define a range of values for k
k_values = [2, 1, 0, -1, -2]

# Plot the solution for each value of k
plt.figure(figsize=(10, 6))
for k in k_values:
    plt.plot(x, y_solution(x, A, k), label=f'k = {k}')

# Add labels and title
plt.xlabel('x')
plt.ylabel('y(x)')
plt.title('Solution of y(x) = A * exp(k * x) for various k values (A=1)')
plt.axhline(0, color='black',linewidth=0.5, ls='--')
plt.axvline(0, color='black',linewidth=0.5, ls='--')
plt.grid(True)
plt.legend()
plt.show()



























# Define the symbols
c1, c2 = sp.symbols('c1 c2')

# Define the coefficient matrix A and constant vector b
A = sp.Matrix([[1, 1], 
               [-2, 1]])  # Coefficient matrix
b = sp.Matrix([1, 2])  # Constants on the right-hand side

# Find the inverse
inverse_matrix = A.inv()
print("Inverse Matrix:")
sp.pprint(inverse_matrix)

# Solve the system using the inverse
solution_matrix = inverse_matrix * b # Solution c = A_inv * b
print("Solution Matrix:")
sp.pprint(solution_matrix)

# Verification using sp.solve
eq1 = sp.Eq(c1 + c2, 1)  # c1 + c2 = 1
eq2 = sp.Eq(-2*c1 + c2, 2)  # -2*c1 + c2 = 2
solution = sp.solve([eq1, eq2], (c1, c2))
solution







# Create a grid for the direction field
x_vals = np.linspace(-10, 10, 25)
y_vals = np.linspace(-10, 10, 25)
X, Y = np.meshgrid(x_vals, y_vals)

# Define the slope fields for each equation
def slope_field_1(X, Y):
    return np.sin(X)

def slope_field_2(X, Y):
    return np.sin(Y)**2

def slope_field_3(X, Y):
    return Y * np.sin(X)

# Calculate the slopes for each equation
U = np.ones_like(X)
V_1 = slope_field_1(X, Y)
V_2 = slope_field_2(X, Y)
V_3 = slope_field_3(X, Y)

# Set up the figure
fig, axs = plt.subplots(1, 3, figsize=(18, 6))

# Plot the slope field for y' = sin(x)
axs[0].quiver(X, Y, U, V_1, color='b')
axs[0].set_title("y' = sin(x)")
axs[0].set_xlabel('x')
axs[0].set_ylabel('y')
axs[0].set_xlim([-10, 10])
axs[0].set_ylim([-10, 10])

# Plot the slope field for y' = sin^2(y)
axs[1].quiver(X, Y, U, V_2, color='r')
axs[1].set_title("y' = sin^2(y)")
axs[1].set_xlabel('x')
axs[1].set_xlim([-10, 10])
axs[1].set_ylim([-10, 10])

# Plot the slope field for y' = y * sin(x)
axs[2].quiver(X, Y, U, V_3, color='g')
axs[2].set_title("y' = y * sin(x)")
axs[2].set_xlabel('x')
axs[2].set_xlim([-10, 10])
axs[2].set_ylim([-10, 10])

plt.tight_layout()
plt.show()






# Define y as a function of x using sympy's Function class
y = sp.Function('y')(x)

# Re-define the differential equation dy/dx = 4 / (1 + x^2)
differential_eq = sp.Eq(sp.diff(y, x), 4 / (1 + x**2))

# Solve the differential equation
solution = sp.dsolve(differential_eq, y)

# Apply the initial condition y(0) = 0
initial_condition = sp.Eq(solution.rhs.subs(x, 0), 0)

# Solve for the constant C1
C1_value = sp.solve(initial_condition)

# Substitute the value of C1 back into the solution
final_solution = solution.subs('C1', C1_value[0])
final_solution





