








import numpy as np
import matplotlib.pyplot as plt


# (a)


# Define the function y(x) = A * exp(k * x)
def y_solution(x, A, k):
    return A * np.exp(k * x)

# Generate x values from -2 to 2
x = np.linspace(-2, 2, 400)

# Choose a constant value for k
k = 1

# Define a range of values for A
A_values = [0.5, 1, 2, -1, -2]

# Plot the solution for each value of A
plt.figure(figsize=(10, 6))
for A in A_values:
    plt.plot(x, y_solution(x, A, k), label=f'A = {A}')

# Add labels and title
plt.xlabel('x')
plt.ylabel('y(x)')
plt.title('Solution of y(x) = A * exp(k * x) for various A values (k=1)')
plt.axhline(0, color='black',linewidth=0.5, ls='--')
plt.axvline(0, color='black',linewidth=0.5, ls='--')
plt.grid(True)
plt.legend()
plt.show()



# (b)


# Define the function y(x) = A * exp(k * x)
def y_solution(x, A, k):
    return A * np.exp(k * x)

# Generate x values from -2 to 2
x = np.linspace(-2, 2, 400)

# Choose a constant value for A
A = 1

# Define a range of values for k
k_values = [2, 1, 0, -1, -2]

# Plot the solution for each value of k
plt.figure(figsize=(10, 6))
for k in k_values:
    plt.plot(x, y_solution(x, A, k), label=f'k = {k}')

# Add labels and title
plt.xlabel('x')
plt.ylabel('y(x)')
plt.title('Solution of y(x) = A * exp(k * x) for various k values (A=1)')
plt.axhline(0, color='black',linewidth=0.5, ls='--')
plt.axvline(0, color='black',linewidth=0.5, ls='--')
plt.grid(True)
plt.legend()
plt.show()






















