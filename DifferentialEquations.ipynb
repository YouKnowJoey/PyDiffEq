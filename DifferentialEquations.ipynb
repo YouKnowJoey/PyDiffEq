{
 "cells": [
  {
   "cell_type": "markdown",
   "id": "3e51ec00-0458-4742-bb5c-28016b67d27b",
   "metadata": {},
   "source": [
    "# Differential Equations"
   ]
  },
  {
   "cell_type": "markdown",
   "id": "b01fe49b-b064-44ee-9697-c359be2feed9",
   "metadata": {},
   "source": [
    "## Introduction"
   ]
  },
  {
   "cell_type": "code",
   "execution_count": 1,
   "id": "aece1afc-5907-4964-bcf3-dc3128e0d658",
   "metadata": {},
   "outputs": [
    {
     "ename": "ModuleNotFoundError",
     "evalue": "No module named 'numpy'",
     "output_type": "error",
     "traceback": [
      "\u001b[1;31m---------------------------------------------------------------------------\u001b[0m",
      "\u001b[1;31mModuleNotFoundError\u001b[0m                       Traceback (most recent call last)",
      "Cell \u001b[1;32mIn[1], line 1\u001b[0m\n\u001b[1;32m----> 1\u001b[0m \u001b[38;5;28;01mimport\u001b[39;00m \u001b[38;5;21;01mnumpy\u001b[39;00m \u001b[38;5;28;01mas\u001b[39;00m \u001b[38;5;21;01mnp\u001b[39;00m\n\u001b[0;32m      2\u001b[0m \u001b[38;5;28;01mimport\u001b[39;00m \u001b[38;5;21;01mmatplotlib\u001b[39;00m\u001b[38;5;21;01m.\u001b[39;00m\u001b[38;5;21;01mpyplot\u001b[39;00m \u001b[38;5;28;01mas\u001b[39;00m \u001b[38;5;21;01mplt\u001b[39;00m\n",
      "\u001b[1;31mModuleNotFoundError\u001b[0m: No module named 'numpy'"
     ]
    }
   ],
   "source": [
    "import numpy as np\n",
    "import matplotlib.pyplot as plt\n"
   ]
  },
  {
   "cell_type": "code",
   "execution_count": null,
   "id": "67db56e6-0625-47be-89fa-cd5bbc4679ad",
   "metadata": {},
   "outputs": [],
   "source": [
    "# Define the function y(x) = A * exp(k * x)\n",
    "def y_solution(x, A, k):\n",
    "    return A * np.exp(k * x)\n",
    "\n",
    "# Generate x values from -2 to 2\n",
    "x = np.linspace(-2, 2, 400)\n",
    "\n",
    "# Choose a constant value for k\n",
    "k = 1\n",
    "\n",
    "# Define a range of values for A\n",
    "A_values = [0.5, 1, 2, -1]\n",
    "\n",
    "# Plot the solution for each value of A\n",
    "plt.figure(figsize=(8, 6))\n",
    "for A in A_values:\n",
    "    plt.plot(x, y_solution(x, A, k), label=f'A = {A}')\n",
    "\n",
    "# Add labels and title\n",
    "plt.xlabel('x')\n",
    "plt.ylabel('y(x)')\n",
    "plt.title('Solution of y(x) = A * exp(k * x) for various A values')\n",
    "plt.axhline(0, color='black',linewidth=0.5)\n",
    "plt.axvline(0, color='black',linewidth=0.5)\n",
    "plt.grid(True)\n",
    "plt.legend()\n",
    "plt.show()\n"
   ]
  }
 ],
 "metadata": {
  "kernelspec": {
   "display_name": "Python 3 (ipykernel)",
   "language": "python",
   "name": "python3"
  },
  "language_info": {
   "codemirror_mode": {
    "name": "ipython",
    "version": 3
   },
   "file_extension": ".py",
   "mimetype": "text/x-python",
   "name": "python",
   "nbconvert_exporter": "python",
   "pygments_lexer": "ipython3",
   "version": "3.12.3"
  }
 },
 "nbformat": 4,
 "nbformat_minor": 5
}
